{
 "cells": [
  {
   "cell_type": "code",
   "execution_count": 1,
   "metadata": {},
   "outputs": [
    {
     "name": "stdout",
     "output_type": "stream",
     "text": [
      "hello , my first trial\n"
     ]
    }
   ],
   "source": [
    "print('hello , my first trial')"
   ]
  }
 ],
 "metadata": {
  "kernelspec": {
   "display_name": "Python 3.8.13",
   "language": "python",
   "name": "python3"
  },
  "language_info": {
   "name": "python",
   "version": "3.8.13"
  },
  "orig_nbformat": 4,
  "vscode": {
   "interpreter": {
    "hash": "daf090adcdee63ce6433fce24a8037d5de4144c87604f79962ba905050d3824c"
   }
  }
 },
 "nbformat": 4,
 "nbformat_minor": 2
}
